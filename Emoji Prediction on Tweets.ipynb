{
 "cells": [
  {
   "cell_type": "markdown",
   "metadata": {},
   "source": [
    "## Emoji Prediction on Tweets"
   ]
  },
  {
   "cell_type": "code",
   "execution_count": 1,
   "metadata": {},
   "outputs": [
    {
     "ename": "SyntaxError",
     "evalue": "invalid syntax (3471627267.py, line 1)",
     "output_type": "error",
     "traceback": [
      "\u001b[1;36m  Cell \u001b[1;32mIn[1], line 1\u001b[1;36m\u001b[0m\n\u001b[1;33m    pip install numpy\u001b[0m\n\u001b[1;37m        ^\u001b[0m\n\u001b[1;31mSyntaxError\u001b[0m\u001b[1;31m:\u001b[0m invalid syntax\n"
     ]
    }
   ],
   "source": [
    "pip install numpy\n",
    "pip install pandas\n"
   ]
  },
  {
   "cell_type": "code",
   "execution_count": null,
   "metadata": {},
   "outputs": [],
   "source": [
    "\n",
    "import os\n",
    "import numpy as np\n",
    "import pandas as pd\n",
    "import matplotlib.pyplot as plt\n",
    "import seaborn as sns\n",
    "import pickle\n",
    "import tensorflow.keras"
   ]
  },
  {
   "cell_type": "code",
   "execution_count": null,
   "metadata": {},
   "outputs": [],
   "source": [
    "df = pd.read_csv(\"C:/Users/DELL/OneDrive/Desktop/New folder/project/emoji_uncleaned.csv\").sample(n=30)\n",
    "df.dropna(inplace=True)\n",
    "\n",
    "X = df[\"Tweet\"].values\n",
    "y = df[\"Label\"].values"
   ]
  },
  {
   "cell_type": "code",
   "execution_count": null,
   "metadata": {},
   "outputs": [],
   "source": [
    "emoji_raw = open('C:/Users/DELL/OneDrive/Desktop/New folder/project/us_mapping.txt','r',encoding=\"utf8\")\n",
    "\n",
    "emojis=[]\n",
    "for sentence in emoji_raw:\n",
    "    sentence = sentence.rstrip()\n",
    "    emojis.append(sentence)\n",
    "\n",
    "    \n",
    "emoji_dict={}\n",
    "\n",
    "for e in emojis:\n",
    "    idx = int(e.split()[0])\n",
    "    emoji = e.split()[1]\n",
    "    emoji_dict[idx] = emoji"
   ]
  },
  {
   "cell_type": "code",
   "execution_count": null,
   "metadata": {},
   "outputs": [],
   "source": [
    "from keras.preprocessing.sequence import pad_sequences\n",
    "\n",
    "tokenizer = pickle.load(open(\"C:/Users/DELL/OneDrive/Desktop/New folder/project/tweet_tokenizer\",'rb'))\n",
    "\n",
    "def preprocess_text(X):\n",
    "    max_len=40\n",
    "    X_seqs = tokenizer.texts_to_sequences(X)\n",
    "    X_seqs_pd = pad_sequences(X_seqs, truncating=\"pre\", padding=\"pre\", maxlen=max_len)\n",
    "    return X_seqs_pd"
   ]
  },
  {
   "cell_type": "code",
   "execution_count": null,
   "metadata": {},
   "outputs": [],
   "source": [
    "from tensorflow import keras\n",
    "\n",
    "model = keras.models.load_model(\"C:/Users/DELL/OneDrive/Desktop/New folder/project/BLSTM.h5\", compile=False)\n",
    "model.summary()"
   ]
  },
  {
   "cell_type": "code",
   "execution_count": null,
   "metadata": {},
   "outputs": [],
   "source": [
    "X_sequences = preprocess_text(X)\n",
    "predictions = np.argmax(model.predict(X_sequences), axis=1)\n",
    "\n",
    "y_map = [emoji_dict[idx] for idx in y]\n",
    "predictions = [emoji_dict[idx] for idx in predictions]\n",
    "\n",
    "results = pd.DataFrame({\"Tweet\":X})\n",
    "results[\"True\"] = y_map\n",
    "results[\"Predicted\"] = predictions\n",
    "\n",
    "results"
   ]
  },
  {
   "cell_type": "markdown",
   "metadata": {},
   "source": [
    "#    "
   ]
  },
  {
   "cell_type": "markdown",
   "metadata": {},
   "source": [
    "## Emojify Tweet"
   ]
  },
  {
   "cell_type": "code",
   "execution_count": null,
   "metadata": {},
   "outputs": [],
   "source": [
    "import string\n",
    "import re\n",
    "\n",
    "from tensorflow import keras\n",
    "emoji_predict_model = keras.models.load_model(\"C:/Users/DELL/OneDrive/Desktop/New folder/project/BLSTM.h5\", compile=False)\n",
    "\n",
    "\n",
    "def tweet_clean(tweet):\n",
    "    tweet = str(tweet).lower()\n",
    "    rm_mention = re.sub(r'@[A-Za-z0-9]+', '', tweet)                       # remove @mentions\n",
    "    rm_rt = re.sub(r'RT[/s]+', '', rm_mention)                             # remove RT\n",
    "    rm_links = re.sub(r'http\\S+', '', rm_rt)                               # remove hyperlinks\n",
    "    rm_links = re.sub(r'https?:\\/\\/\\S+','', rm_links)\n",
    "    rm_nums = re.sub('[0-9]+', '', rm_links)                               # remove numbers\n",
    "    rm_punc = [char for char in rm_nums if char not in string.punctuation] # remove punctuations\n",
    "    rm_punc = ''.join(rm_punc)\n",
    "    cleaned = rm_punc\n",
    "    \n",
    "    return cleaned\n",
    "\n",
    "\n",
    "def predict_emoji(text, model=emoji_predict_model):\n",
    "    text = tweet_clean(text)\n",
    "    X_sequences = preprocess_text([text])\n",
    "    predictions = np.argmax(model.predict(X_sequences), axis=1)\n",
    "    emoji_idx = predictions[0]\n",
    "    emoji = emoji_dict[emoji_idx]\n",
    "    \n",
    "    return emoji"
   ]
  },
  {
   "cell_type": "code",
   "execution_count": null,
   "metadata": {},
   "outputs": [],
   "source": [
    "text = input(\"Enter tweet \\n\\n\")\n",
    "\n",
    "print(\"\\n\\n Emojified Tweet \\n\\n\")\n",
    "print(text+\" \"+predict_emoji(text))"
   ]
  },
  {
   "cell_type": "code",
   "execution_count": null,
   "metadata": {},
   "outputs": [],
   "source": [
    "text = input(\"Enter tweet \\n\\n\")\n",
    "\n",
    "print(\"\\n\\n Emojified Tweet \\n\\n\")\n",
    "print(text+\" \"+predict_emoji(text))"
   ]
  },
  {
   "cell_type": "code",
   "execution_count": null,
   "metadata": {},
   "outputs": [],
   "source": [
    "text = input(\"Enter tweet \\n\\n\")\n",
    "\n",
    "print(\"\\n\\n Emojified Tweet \\n\\n\")\n",
    "print(text+\" \"+predict_emoji(text))"
   ]
  },
  {
   "cell_type": "code",
   "execution_count": null,
   "metadata": {},
   "outputs": [],
   "source": [
    "text = input(\"Enter tweet \\n\\n\")\n",
    "\n",
    "print(\"\\n\\n Emojified Tweet \\n\\n\")\n",
    "print(text+\" \"+predict_emoji(text))"
   ]
  },
  {
   "cell_type": "code",
   "execution_count": null,
   "metadata": {},
   "outputs": [],
   "source": [
    "text = input(\"Enter tweet \\n\\n\")\n",
    "\n",
    "print(\"\\n\\n Emojified Tweet \\n\\n\")\n",
    "print(text+\" \"+predict_emoji(text))"
   ]
  },
  {
   "cell_type": "code",
   "execution_count": null,
   "metadata": {},
   "outputs": [],
   "source": []
  }
 ],
 "metadata": {
  "kernelspec": {
   "display_name": "Python 3",
   "language": "python",
   "name": "python3"
  },
  "language_info": {
   "codemirror_mode": {
    "name": "ipython",
    "version": 3
   },
   "file_extension": ".py",
   "mimetype": "text/x-python",
   "name": "python",
   "nbconvert_exporter": "python",
   "pygments_lexer": "ipython3",
   "version": "3.11.1"
  }
 },
 "nbformat": 4,
 "nbformat_minor": 2
}
